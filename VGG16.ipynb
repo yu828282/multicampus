{
  "nbformat": 4,
  "nbformat_minor": 0,
  "metadata": {
    "colab": {
      "provenance": []
    },
    "kernelspec": {
      "name": "python3",
      "display_name": "Python 3"
    },
    "language_info": {
      "name": "python"
    },
    "accelerator": "GPU",
    "gpuClass": "standard"
  },
  "cells": [
    {
      "cell_type": "code",
      "execution_count": 38,
      "metadata": {
        "id": "kqacLouKDK8Z",
        "colab": {
          "base_uri": "https://localhost:8080/"
        },
        "outputId": "262f0d74-3c06-4a16-c7d2-22c9eba6b8a7"
      },
      "outputs": [
        {
          "output_type": "stream",
          "name": "stdout",
          "text": [
            "Drive already mounted at /gdrive; to attempt to forcibly remount, call drive.mount(\"/gdrive\", force_remount=True).\n"
          ]
        }
      ],
      "source": [
        "from google.colab import drive \n",
        "drive.mount('/gdrive') # 구글드라이브 연결"
      ]
    },
    {
      "cell_type": "code",
      "source": [
        "import zipfile as zf\n",
        "files = zf.ZipFile(\"/gdrive/My Drive/Colab Notebooks/onlyimagedata.zip\",'r') # 압축 파일의 자료 읽기\n",
        "files.extractall()\n",
        "files.close()"
      ],
      "metadata": {
        "id": "7uB-g6jRDNTA"
      },
      "execution_count": 39,
      "outputs": []
    },
    {
      "cell_type": "code",
      "source": [
        "# 폴더명 기준으로 라벨 구분\n",
        "import os\n",
        "\n",
        "labels = os.listdir(r'/content/data') \n",
        "print('라벨:', labels)"
      ],
      "metadata": {
        "id": "JK908EyDDNVG",
        "colab": {
          "base_uri": "https://localhost:8080/"
        },
        "outputId": "41068223-f3a8-428d-84c9-6dcb115c34e0"
      },
      "execution_count": 40,
      "outputs": [
        {
          "output_type": "stream",
          "name": "stdout",
          "text": [
            "라벨: ['plastic', 'pet', 'vin', 'styro', 'paper', 'can']\n"
          ]
        }
      ]
    },
    {
      "cell_type": "code",
      "source": [
        "# 각 라벨마다 train, val 파일 생성 및 데이터 나누기(8대2)\n",
        "!pip install split-folders\n",
        "\n",
        "import splitfolders\n",
        "\n",
        "os.mkdir(\"/content/data_new\")\n",
        "splitfolders.ratio('/content/data', output=\"/content/data_new\", seed=77, ratio=(0.8, 0.2))"
      ],
      "metadata": {
        "id": "wgeBryaGDNW-",
        "colab": {
          "base_uri": "https://localhost:8080/",
          "height": 266
        },
        "outputId": "4ef4df19-6370-44ea-b657-2016b8e1c398"
      },
      "execution_count": 41,
      "outputs": [
        {
          "output_type": "stream",
          "name": "stdout",
          "text": [
            "Looking in indexes: https://pypi.org/simple, https://us-python.pkg.dev/colab-wheels/public/simple/\n",
            "Requirement already satisfied: split-folders in /usr/local/lib/python3.9/dist-packages (0.5.1)\n"
          ]
        },
        {
          "output_type": "error",
          "ename": "FileExistsError",
          "evalue": "ignored",
          "traceback": [
            "\u001b[0;31m---------------------------------------------------------------------------\u001b[0m",
            "\u001b[0;31mFileExistsError\u001b[0m                           Traceback (most recent call last)",
            "\u001b[0;32m<ipython-input-41-7a0f5fa2ee90>\u001b[0m in \u001b[0;36m<module>\u001b[0;34m\u001b[0m\n\u001b[1;32m      4\u001b[0m \u001b[0;32mimport\u001b[0m \u001b[0msplitfolders\u001b[0m\u001b[0;34m\u001b[0m\u001b[0;34m\u001b[0m\u001b[0m\n\u001b[1;32m      5\u001b[0m \u001b[0;34m\u001b[0m\u001b[0m\n\u001b[0;32m----> 6\u001b[0;31m \u001b[0mos\u001b[0m\u001b[0;34m.\u001b[0m\u001b[0mmkdir\u001b[0m\u001b[0;34m(\u001b[0m\u001b[0;34m\"/content/data_new\"\u001b[0m\u001b[0;34m)\u001b[0m\u001b[0;34m\u001b[0m\u001b[0;34m\u001b[0m\u001b[0m\n\u001b[0m\u001b[1;32m      7\u001b[0m \u001b[0msplitfolders\u001b[0m\u001b[0;34m.\u001b[0m\u001b[0mratio\u001b[0m\u001b[0;34m(\u001b[0m\u001b[0;34m'/content/data'\u001b[0m\u001b[0;34m,\u001b[0m \u001b[0moutput\u001b[0m\u001b[0;34m=\u001b[0m\u001b[0;34m\"/content/data_new\"\u001b[0m\u001b[0;34m,\u001b[0m \u001b[0mseed\u001b[0m\u001b[0;34m=\u001b[0m\u001b[0;36m77\u001b[0m\u001b[0;34m,\u001b[0m \u001b[0mratio\u001b[0m\u001b[0;34m=\u001b[0m\u001b[0;34m(\u001b[0m\u001b[0;36m0.8\u001b[0m\u001b[0;34m,\u001b[0m \u001b[0;36m0.2\u001b[0m\u001b[0;34m)\u001b[0m\u001b[0;34m)\u001b[0m\u001b[0;34m\u001b[0m\u001b[0;34m\u001b[0m\u001b[0m\n",
            "\u001b[0;31mFileExistsError\u001b[0m: [Errno 17] File exists: '/content/data_new'"
          ]
        }
      ]
    },
    {
      "cell_type": "code",
      "source": [
        "!pip install torch\n",
        "!pip install torchvision\n",
        "\n",
        "import torch\n",
        "import torch.nn as nn\n",
        "import torch.optim as optim\n",
        "from torch.optim import lr_scheduler\n",
        "import torch.backends.cudnn as cudnn\n",
        "import torchvision\n",
        "from torchvision import datasets, models, transforms\n",
        "import matplotlib.pyplot as plt\n",
        "import os\n",
        "import copy\n",
        "import numpy as np\n",
        "import time\n",
        "from torchsummary import summary\n",
        "\n",
        "cudnn.benchmark = True # 최적의 backend 연산을 찾는 flag를 true 로 설정\n",
        "plt.ion()   # 대화형 모드\n",
        "\n",
        "device = torch.device(\"cuda:0\" if torch.cuda.is_available() else \"cpu\") # GPU 사용가능 여부 확인. cuda가 설정되어 있으면 연산을 gpu로 하고, 아니면 cpu\n",
        "device"
      ],
      "metadata": {
        "id": "1a8itQvNDNZG",
        "colab": {
          "base_uri": "https://localhost:8080/"
        },
        "outputId": "23e9fe43-3e84-477b-f7ea-7046f33fc6f9"
      },
      "execution_count": 46,
      "outputs": [
        {
          "output_type": "stream",
          "name": "stdout",
          "text": [
            "Looking in indexes: https://pypi.org/simple, https://us-python.pkg.dev/colab-wheels/public/simple/\n",
            "Requirement already satisfied: torch in /usr/local/lib/python3.9/dist-packages (1.13.1+cu116)\n",
            "Requirement already satisfied: typing-extensions in /usr/local/lib/python3.9/dist-packages (from torch) (4.5.0)\n",
            "Looking in indexes: https://pypi.org/simple, https://us-python.pkg.dev/colab-wheels/public/simple/\n",
            "Requirement already satisfied: torchvision in /usr/local/lib/python3.9/dist-packages (0.14.1+cu116)\n",
            "Requirement already satisfied: numpy in /usr/local/lib/python3.9/dist-packages (from torchvision) (1.22.4)\n",
            "Requirement already satisfied: pillow!=8.3.*,>=5.3.0 in /usr/local/lib/python3.9/dist-packages (from torchvision) (8.4.0)\n",
            "Requirement already satisfied: requests in /usr/local/lib/python3.9/dist-packages (from torchvision) (2.27.1)\n",
            "Requirement already satisfied: typing-extensions in /usr/local/lib/python3.9/dist-packages (from torchvision) (4.5.0)\n",
            "Requirement already satisfied: torch==1.13.1 in /usr/local/lib/python3.9/dist-packages (from torchvision) (1.13.1+cu116)\n",
            "Requirement already satisfied: idna<4,>=2.5 in /usr/local/lib/python3.9/dist-packages (from requests->torchvision) (3.4)\n",
            "Requirement already satisfied: charset-normalizer~=2.0.0 in /usr/local/lib/python3.9/dist-packages (from requests->torchvision) (2.0.12)\n",
            "Requirement already satisfied: certifi>=2017.4.17 in /usr/local/lib/python3.9/dist-packages (from requests->torchvision) (2022.12.7)\n",
            "Requirement already satisfied: urllib3<1.27,>=1.21.1 in /usr/local/lib/python3.9/dist-packages (from requests->torchvision) (1.26.15)\n"
          ]
        },
        {
          "output_type": "execute_result",
          "data": {
            "text/plain": [
              "device(type='cuda', index=0)"
            ]
          },
          "metadata": {},
          "execution_count": 46
        }
      ]
    },
    {
      "cell_type": "code",
      "source": [
        "# 데이터셋을 불러올 때 사용할 변형(transformation) 객체를 train, val 별로 지정\n",
        "data_transforms = {\n",
        "    'train': transforms.Compose([\n",
        "        transforms.Resize(224),# 이미지 resize \n",
        "        transforms.RandomResizedCrop(224), # 이미지를 랜덤으로 자르기\n",
        "        transforms.RandomHorizontalFlip(),# 데이터 증진(augmentation)\n",
        "        transforms.ToTensor(), # 데이터를 tensor로 바꿔준다. 넘파이는 정수값이 들어있어 오차율 가늠이 힘들고 CIDA 연산도 지원하지 않음\n",
        "        transforms.Normalize([0.485, 0.456, 0.406], [0.229, 0.224, 0.225])  # 정규화(normalization)작업에 쓰일 각 채널의 표준값과 표준편차값, PyTorch 기본값으로 셋팅\n",
        "    ]),\n",
        "    'val': transforms.Compose([\n",
        "        transforms.Resize(224),\n",
        "        transforms.CenterCrop(224),\n",
        "        transforms.ToTensor(),\n",
        "        transforms.Normalize([0.485, 0.456, 0.406], [0.229, 0.224, 0.225])\n",
        "    ]),\n",
        "}"
      ],
      "metadata": {
        "id": "39rHGvJRDNbF"
      },
      "execution_count": 47,
      "outputs": []
    },
    {
      "cell_type": "code",
      "source": [
        "data_dir = '/content/data_new' # 이미지 데이터셋에 상단의 transform 내용 적용\n",
        "\n",
        "image_datasets = {x: datasets.ImageFolder(os.path.join(data_dir, x), data_transforms[x]) for x in ['train', 'val']}\n",
        "\n",
        "dataloaders = {x: torch.utils.data.DataLoader(image_datasets[x], batch_size=4,shuffle=True, num_workers=4) for x in ['train', 'val']}\n",
        "\n",
        "dataset_sizes = {x: len(image_datasets[x]) for x in ['train', 'val']}\n",
        "\n",
        "class_names = image_datasets['train'].classes"
      ],
      "metadata": {
        "id": "UasI17_kDNdM"
      },
      "execution_count": 48,
      "outputs": []
    },
    {
      "cell_type": "code",
      "source": [
        "# train과 valid 데이터 개수 확인\n",
        "print(len(image_datasets['train']), len(image_datasets['val']))"
      ],
      "metadata": {
        "id": "4qCRgFvbDNfS",
        "colab": {
          "base_uri": "https://localhost:8080/"
        },
        "outputId": "62ef8d75-2bd2-4af1-c5c4-5d9007dc9ca6"
      },
      "execution_count": 49,
      "outputs": [
        {
          "output_type": "stream",
          "name": "stdout",
          "text": [
            "48000 12000\n"
          ]
        }
      ]
    },
    {
      "cell_type": "code",
      "source": [
        "# 데이터 이미지 출력하는 함수 만들기\n",
        "def imshow(inp, title=None):\n",
        "    inp = inp.numpy().transpose((1, 2, 0)) # torch.Tensor를 numpy 객체로 변환    \n",
        "    mean = np.array([0.485, 0.456, 0.406])\n",
        "    std = np.array([0.229, 0.224, 0.225])\n",
        "    plt.axis('off')  # 바깥선 지우기\n",
        "    inp = std * inp + mean\n",
        "    inp = np.clip(inp, 0, 1)\n",
        "    plt.imshow(inp)    # 이미지 출력\n",
        "    plt.title(title)\n",
        "\n",
        "def show_databatch(inputs, classes):\n",
        "    out = torchvision.utils.make_grid(inputs) # 배치로부터 격자 형태의 이미지 생성\n",
        "    imshow(out, title=[class_names[x] for x in classes]) #  배치사이즈만큼 image, label이 출력\n",
        "\n",
        "inputs, classes = next(iter(dataloaders['train'])) # 학습 데이터의 배치를 얻기\n",
        "show_databatch(inputs, classes) # 학습데이터 이미지 출력"
      ],
      "metadata": {
        "id": "7V2mc-AtDWSQ",
        "colab": {
          "base_uri": "https://localhost:8080/",
          "height": 131
        },
        "outputId": "e0fafeaa-14e3-47a5-ab47-66b9356e5140"
      },
      "execution_count": 50,
      "outputs": [
        {
          "output_type": "display_data",
          "data": {
            "text/plain": [
              "<Figure size 432x288 with 1 Axes>"
            ],
            "image/png": "[encoded data removed]"
          },
          "metadata": {
            "needs_background": "light"
          }
        }
      ]
    },
    {
      "cell_type": "code",
      "source": [
        "def visualize_model(model, num_images=6): # 시각화 함수\n",
        "    was_training = vgg16.training\n",
        "    vgg16.eval()\n",
        "    images_so_far = 0\n",
        "    fig = plt.figure()\n",
        "\n",
        "    with torch.no_grad():\n",
        "        for i, (inputs, labels) in enumerate(dataloaders['val']):\n",
        "            inputs = inputs.to(device)\n",
        "            labels = labels.to(device)\n",
        "\n",
        "            outputs = vgg16(inputs)  # 모델에 나온 값\n",
        "            _, preds = torch.max(outputs, 1) # 예측값\n",
        "\n",
        "            for j in range(inputs.size()[0]):\n",
        "                images_so_far += 1\n",
        "                ax = plt.subplot(num_images//2, 2, images_so_far)\n",
        "                ax.axis('off')\n",
        "                ax.set_title(f'predicted: {class_names[preds[j]]}') #예측값만 출력\n",
        "                imshow(inputs.cpu().data[j])\n",
        "\n",
        "                if images_so_far == num_images:\n",
        "                    vgg16.train(mode=was_training) # 앞에서 선언한 값에 넣기\n",
        "                    return\n",
        "        vgg16.train(mode=was_training)"
      ],
      "metadata": {
        "id": "B6aSdLbgDNha"
      },
      "execution_count": 51,
      "outputs": []
    },
    {
      "cell_type": "code",
      "source": [
        "def train_model(model, optimizer, num_epochs=25): # 모델학습 함수\n",
        "    since = time.time()\n",
        "\n",
        "    loss_history = {'train': [], 'val': []}\n",
        "    metric_history = {'train': [], 'val': []}\n",
        "\n",
        "    best_model_wts = copy.deepcopy(model.state_dict())\n",
        "    best_acc = 0.0\n",
        "\n",
        "    for epoch in range(num_epochs):  # 에폭마다 for문을 넣어주고\n",
        "        print(f'Epoch {epoch}/{num_epochs - 1}')\n",
        "        print('-' * 10)\n",
        "\n",
        "        # 각 에폭(epoch)은 학습단계와 테스트 단계를 거쳐서 진행\n",
        "        for phase in ['train', 'val']:\n",
        "            if phase == 'train':\n",
        "                model.train()  # 모델을 학습 모드로 설정\n",
        "            else:\n",
        "                model.eval()   # 모델을 평가 모드로 설정\n",
        "\n",
        "            running_loss = 0.0\n",
        "            running_corrects = 0\n",
        "\n",
        "            # 데이터를 반복\n",
        "            for inputs, labels in dataloaders[phase]:\n",
        "                inputs = inputs.to(device)\n",
        "                labels = labels.to(device)\n",
        "\n",
        "                # 매개변수 경사도를 0으로 설정\n",
        "                optimizer.zero_grad()\n",
        "\n",
        "                # 순전파\n",
        "                # 학습 시에만 연산 기록을 추적\n",
        "                with torch.set_grad_enabled(phase == 'train'):\n",
        "                    outputs = model(inputs) # 아웃풋 설정\n",
        "                    _, preds = torch.max(outputs, 1) # 인풋에 대현 예측값\n",
        "                    loss = criterion(outputs, labels) # 예측값과 실제 결과값 비교\n",
        "\n",
        "                    # 학습 단계인 경우 역전파 + 최적화\n",
        "                    if phase == 'train':\n",
        "                        loss.backward() # 역전파\n",
        "                        optimizer.step() # 최적화(optimizer 스텝 증가) \n",
        "\n",
        "                # 통계\n",
        "                running_loss += loss.item() * inputs.size(0) # 교차엔트로피 계산. deafualt값이 mean이므로 각 데이터 마다의 손실 평균이 저장, 배치 사이즈를 곱해줘 한 배치 사이즈의 loss 총합을 계산\n",
        "                running_corrects += torch.sum(preds == labels.data) # 예측값이 맞은 횟수 더하기\n",
        "            if phase == 'train':\n",
        "                exp_lr_scheduler.step()\n",
        "\n",
        "            epoch_loss = running_loss / dataset_sizes[phase] # 에폭에 따른 loss, accuracy 계산 (전체 데이터 loss합/ 각 데이터셋 크기)\n",
        "            epoch_acc = running_corrects.double() / dataset_sizes[phase] \n",
        "\n",
        "            print(f'{phase} Loss: {epoch_loss:.4f} Accuracy: {epoch_acc:.4f}') # loss, accuracy 출력\n",
        "\n",
        "            if phase == 'train':\n",
        "                loss_history['train'].append(epoch_loss)\n",
        "                metric_history['train'].append(epoch_acc)\n",
        "            else:\n",
        "                loss_history['val'].append(epoch_loss)\n",
        "                metric_history['val'].append(epoch_acc)\n",
        "\n",
        "            # 모델을 깊은 복사(deep copy)함\n",
        "            if phase == 'val' and epoch_acc > best_acc: # best_acc, weight 값 저장\n",
        "                best_acc = epoch_acc\n",
        "                best_model_wts = copy.deepcopy(model.state_dict())\n",
        "\n",
        "        print()\n",
        "\n",
        "    time_elapsed = time.time() - since       # 반복할 때마다 현재 - 기존 시간 계산해 걸린 시간 표시\n",
        "    print(f'Training complete in {time_elapsed // 60:.0f}m {time_elapsed % 60:.0f}s')\n",
        "    print(f'Best val Accuracy: {best_acc:4f}')\n",
        "\n",
        "    # 제일 잘 나온 모델 가중치를 불러옴\n",
        "    model.load_state_dict(best_model_wts)\n",
        "    return model, loss_history, metric_history"
      ],
      "metadata": {
        "id": "SZ6U6EMlDUfG"
      },
      "execution_count": 52,
      "outputs": []
    },
    {
      "cell_type": "code",
      "source": [
        "vgg16 = models.vgg16(pretrained=True)\n",
        "num_ftrs = vgg16.classifier[6].in_features\n",
        "vgg16.classifier[6] = nn.Linear(num_ftrs, len(class_names))\n",
        "\n",
        "vgg16.to(device)\n",
        "\n",
        "criterion = nn.CrossEntropyLoss()\n",
        "\n",
        "# 모든 매개변수들이 최적화되었는지 관찰\n",
        "optimizer_ft = optim.SGD(vgg16.parameters(), lr=0.001, momentum=0.9)\n",
        "\n",
        "# 7 에폭마다 0.1씩 학습률 감소\n",
        "exp_lr_scheduler = lr_scheduler.StepLR(optimizer_ft, step_size=7, gamma=0.1)"
      ],
      "metadata": {
        "id": "Vf1blCODDUhE",
        "colab": {
          "base_uri": "https://localhost:8080/"
        },
        "outputId": "3f0fd126-3cf4-4cd9-fdf4-28fa45c62a5c"
      },
      "execution_count": 53,
      "outputs": [
        {
          "output_type": "stream",
          "name": "stderr",
          "text": [
            "/usr/local/lib/python3.9/dist-packages/torchvision/models/_utils.py:208: UserWarning: The parameter 'pretrained' is deprecated since 0.13 and may be removed in the future, please use 'weights' instead.\n",
            "  warnings.warn(\n",
            "/usr/local/lib/python3.9/dist-packages/torchvision/models/_utils.py:223: UserWarning: Arguments other than a weight enum or `None` for 'weights' are deprecated since 0.13 and may be removed in the future. The current behavior is equivalent to passing `weights=VGG16_Weights.IMAGENET1K_V1`. You can also use `weights=VGG16_Weights.DEFAULT` to get the most up-to-date weights.\n",
            "  warnings.warn(msg)\n"
          ]
        }
      ]
    },
    {
      "cell_type": "code",
      "source": [
        "from torchsummary import summary\n",
        "summary(vgg16, (3,32,32)) # 모델 정보 확인"
      ],
      "metadata": {
        "id": "evKox9SlDUjK",
        "colab": {
          "base_uri": "https://localhost:8080/"
        },
        "outputId": "6a18bfce-7356-43ee-c6db-ce04689bfad4"
      },
      "execution_count": 54,
      "outputs": [
        {
          "output_type": "stream",
          "name": "stdout",
          "text": [
            "----------------------------------------------------------------\n",
            "        Layer (type)               Output Shape         Param #\n",
            "================================================================\n",
            "            Conv2d-1           [-1, 64, 32, 32]           1,792\n",
            "              ReLU-2           [-1, 64, 32, 32]               0\n",
            "            Conv2d-3           [-1, 64, 32, 32]          36,928\n",
            "              ReLU-4           [-1, 64, 32, 32]               0\n",
            "         MaxPool2d-5           [-1, 64, 16, 16]               0\n",
            "            Conv2d-6          [-1, 128, 16, 16]          73,856\n",
            "              ReLU-7          [-1, 128, 16, 16]               0\n",
            "            Conv2d-8          [-1, 128, 16, 16]         147,584\n",
            "              ReLU-9          [-1, 128, 16, 16]               0\n",
            "        MaxPool2d-10            [-1, 128, 8, 8]               0\n",
            "           Conv2d-11            [-1, 256, 8, 8]         295,168\n",
            "             ReLU-12            [-1, 256, 8, 8]               0\n",
            "           Conv2d-13            [-1, 256, 8, 8]         590,080\n",
            "             ReLU-14            [-1, 256, 8, 8]               0\n",
            "           Conv2d-15            [-1, 256, 8, 8]         590,080\n",
            "             ReLU-16            [-1, 256, 8, 8]               0\n",
            "        MaxPool2d-17            [-1, 256, 4, 4]               0\n",
            "           Conv2d-18            [-1, 512, 4, 4]       1,180,160\n",
            "             ReLU-19            [-1, 512, 4, 4]               0\n",
            "           Conv2d-20            [-1, 512, 4, 4]       2,359,808\n",
            "             ReLU-21            [-1, 512, 4, 4]               0\n",
            "           Conv2d-22            [-1, 512, 4, 4]       2,359,808\n",
            "             ReLU-23            [-1, 512, 4, 4]               0\n",
            "        MaxPool2d-24            [-1, 512, 2, 2]               0\n",
            "           Conv2d-25            [-1, 512, 2, 2]       2,359,808\n",
            "             ReLU-26            [-1, 512, 2, 2]               0\n",
            "           Conv2d-27            [-1, 512, 2, 2]       2,359,808\n",
            "             ReLU-28            [-1, 512, 2, 2]               0\n",
            "           Conv2d-29            [-1, 512, 2, 2]       2,359,808\n",
            "             ReLU-30            [-1, 512, 2, 2]               0\n",
            "        MaxPool2d-31            [-1, 512, 1, 1]               0\n",
            "AdaptiveAvgPool2d-32            [-1, 512, 7, 7]               0\n",
            "           Linear-33                 [-1, 4096]     102,764,544\n",
            "             ReLU-34                 [-1, 4096]               0\n",
            "          Dropout-35                 [-1, 4096]               0\n",
            "           Linear-36                 [-1, 4096]      16,781,312\n",
            "             ReLU-37                 [-1, 4096]               0\n",
            "          Dropout-38                 [-1, 4096]               0\n",
            "           Linear-39                    [-1, 6]          24,582\n",
            "================================================================\n",
            "Total params: 134,285,126\n",
            "Trainable params: 134,285,126\n",
            "Non-trainable params: 0\n",
            "----------------------------------------------------------------\n",
            "Input size (MB): 0.01\n",
            "Forward/backward pass size (MB): 4.84\n",
            "Params size (MB): 512.26\n",
            "Estimated Total Size (MB): 517.10\n",
            "----------------------------------------------------------------\n"
          ]
        }
      ]
    },
    {
      "cell_type": "code",
      "source": [
        "vgg16, loss_hist, metric_hist = train_model(vgg16, optimizer_ft, num_epochs=10) # 학습을 수행"
      ],
      "metadata": {
        "id": "Fmhg3Ba1DUlN",
        "colab": {
          "base_uri": "https://localhost:8080/"
        },
        "outputId": "1ddc2130-9d49-47d6-eb5d-4a3d34cb15e0"
      },
      "execution_count": null,
      "outputs": [
        {
          "output_type": "stream",
          "name": "stdout",
          "text": [
            "Epoch 0/9\n",
            "----------\n",
            "train Loss: 0.6555 Accuracy: 0.7656\n",
            "val Loss: 0.3846 Accuracy: 0.8722\n",
            "\n",
            "Epoch 1/9\n",
            "----------\n",
            "train Loss: 0.4729 Accuracy: 0.8329\n",
            "val Loss: 0.3120 Accuracy: 0.8919\n",
            "\n",
            "Epoch 2/9\n",
            "----------\n",
            "train Loss: 0.4135 Accuracy: 0.8530\n",
            "val Loss: 0.2794 Accuracy: 0.9069\n",
            "\n",
            "Epoch 3/9\n",
            "----------\n",
            "train Loss: 0.3812 Accuracy: 0.8645\n",
            "val Loss: 0.3281 Accuracy: 0.8885\n",
            "\n",
            "Epoch 4/9\n",
            "----------\n",
            "train Loss: 0.3556 Accuracy: 0.8738\n",
            "val Loss: 0.2911 Accuracy: 0.9061\n",
            "\n",
            "Epoch 5/9\n",
            "----------\n",
            "train Loss: 0.3388 Accuracy: 0.8789\n",
            "val Loss: 0.2483 Accuracy: 0.9128\n",
            "\n",
            "Epoch 6/9\n",
            "----------\n",
            "train Loss: 0.3212 Accuracy: 0.8860\n",
            "val Loss: 0.2131 Accuracy: 0.9294\n",
            "\n",
            "Epoch 7/9\n",
            "----------\n"
          ]
        }
      ]
    },
    {
      "cell_type": "code",
      "source": [
        "visualize_model(vgg16) # 예측값 시각화 "
      ],
      "metadata": {
        "id": "Cpgsu4_eDUnT"
      },
      "execution_count": null,
      "outputs": []
    },
    {
      "cell_type": "code",
      "source": [
        "train_loss_history = loss_hist[\"train\"]\n",
        "val_loss_history = loss_hist[\"val\"]\n",
        "train_acc_history = metric_hist[\"train\"]\n",
        "val_acc_history = metric_hist[\"val\"]"
      ],
      "metadata": {
        "id": "a6qhv3tZZ6Av"
      },
      "execution_count": null,
      "outputs": []
    },
    {
      "cell_type": "code",
      "source": [
        "plt.title(\"Train-Val Loss\")\n",
        "plt.plot(train_loss_history ,label=\"train\")\n",
        "plt.plot(val_loss_history,label=\"val\")\n",
        "plt.ylabel(\"Loss\")\n",
        "plt.xlabel(\"Epochs\")\n",
        "plt.legend()\n",
        "plt.show()\n",
        "\n",
        "# plot accuracy progress\n",
        "plt.title(\"Train-Val Accuracy\")\n",
        "plt.plot(train_acc_history,label=\"train\")\n",
        "plt.plot(val_acc_history,label=\"val\")\n",
        "plt.ylabel(\"Accuracy\")\n",
        "plt.xlabel(\"Epochs\")\n",
        "plt.legend()\n",
        "plt.show()"
      ],
      "metadata": {
        "id": "6-iW17YbDUpR"
      },
      "execution_count": null,
      "outputs": []
    },
    {
      "cell_type": "code",
      "source": [
        "vgg16_conv = torchvision.models.vgg16(pretrained=True)\n",
        "for param in vgg16_conv.parameters():\n",
        "    param.requires_grad = False\n",
        "    \n",
        "num_ftrs = vgg16_conv.classifier[6].in_features\n",
        "vgg16_conv.classifier[6] = nn.Linear(num_ftrs, len(class_names))\n",
        "\n",
        "vgg16_conv.to(device)\n",
        "\n",
        "criterion = nn.CrossEntropyLoss()\n",
        "\n",
        "# 모든 매개변수들이 최적화되었는지 관찰\n",
        "optimizer_conv = optim.SGD(vgg16_conv.fc.parameters(), lr=0.001, momentum=0.9)\n",
        "\n",
        "# 7 에폭마다 0.1씩 학습률 감소\n",
        "exp_lr_scheduler = lr_scheduler.StepLR(optimizer_conv, step_size=7, gamma=0.1)"
      ],
      "metadata": {
        "id": "LSplk9KsDUrY"
      },
      "execution_count": null,
      "outputs": []
    },
    {
      "cell_type": "code",
      "source": [
        "model_conv, loss_hist, metric_hist = train_model(vgg16_conv, optimizer_conv, num_epochs=10) # 학습을 수행"
      ],
      "metadata": {
        "id": "jqzSxxi2DUtf"
      },
      "execution_count": null,
      "outputs": []
    },
    {
      "cell_type": "code",
      "source": [
        "train_loss_history = loss_hist[\"train\"]\n",
        "val_loss_history = loss_hist[\"val\"]\n",
        "train_acc_history = metric_hist[\"train\"]\n",
        "val_acc_history = metric_hist[\"val\"]"
      ],
      "metadata": {
        "id": "mWJk4sw7YXMP"
      },
      "execution_count": null,
      "outputs": []
    },
    {
      "cell_type": "code",
      "source": [
        "plt.title(\"Train-Val Loss\")\n",
        "plt.plot(train_loss_history ,label=\"train\")\n",
        "plt.plot(val_loss_history,label=\"val\")\n",
        "plt.ylabel(\"Loss\")\n",
        "plt.xlabel(\"Epochs\")\n",
        "plt.legend()\n",
        "plt.show()\n",
        "\n",
        "# plot accuracy progress\n",
        "plt.title(\"Train-Val Accuracy\")\n",
        "plt.plot(train_acc_history,label=\"train\")\n",
        "plt.plot(val_acc_history,label=\"val\")\n",
        "plt.ylabel(\"Accuracy\")\n",
        "plt.xlabel(\"Epochs\")\n",
        "plt.legend()\n",
        "plt.show()"
      ],
      "metadata": {
        "id": "vw4ESZFdDUvp"
      },
      "execution_count": null,
      "outputs": []
    },
    {
      "cell_type": "code",
      "source": [],
      "metadata": {
        "id": "erGdm-YDbPIo"
      },
      "execution_count": null,
      "outputs": []
    }
  ]
}