{
 "cells": [
  {
   "cell_type": "code",
   "execution_count": 1,
   "id": "4be25537",
   "metadata": {},
   "outputs": [],
   "source": [
    "import sqlite3 # create table : qna 테이블 생성 \n",
    "from sqlite3 import Error\n",
    "import time\n",
    "\n",
    "con = sqlite3.connect('teamproject.db', timeout=10)   # db 연결\n",
    "cursor_db = con.cursor()   # db를 연다\n",
    "\n",
    "cursor_db.execute('CREATE TABLE \"qna\"(\"qna_no\" INTEGER NOT NULL, \"qna_title\" TEXT NOT NULL, \"qna_date\" TEXT NOT NULL, \"user_id\" TEXT NOT NULL,\"qna_content\" TEXT NOT NULL, FOREIGN KEY(\"user_id\") REFERENCES \"users\"(\"user_id\") ON DELETE CASCADE,PRIMARY KEY(\"qna_no\" AUTOINCREMENT));')\n",
    "\n",
    "con.commit()  # 저장한다\n",
    "con.close()   # db 닫기\n"
   ]
  },
  {
   "cell_type": "code",
   "execution_count": 10,
   "id": "2c4ef658",
   "metadata": {},
   "outputs": [],
   "source": [
    "#  insert into : 테이블 내 데이터 추가 \n",
    "con = sqlite3.connect('teamproject.db', timeout=10)   # db 연결\n",
    "cursor_db = con.cursor()   # db를 연다\n",
    "\n",
    "plus_data = ('질문있습니다5', time.strftime('%Y-%m-%d'), 'testid', '종이호일은 일반쓰레기 맞나요?')\n",
    "cursor_db.execute(\"INSERT INTO 'qna'('qna_title', 'qna_date','user_id','qna_content') VALUES(?, ?, ?, ?)\", plus_data) # 작업을 한다\n",
    "\n",
    "con.commit()  # 저장한다\n",
    "con.close()   # db 닫기"
   ]
  },
  {
   "cell_type": "code",
   "execution_count": 11,
   "id": "228f4568",
   "metadata": {},
   "outputs": [],
   "source": [
    "#  insert into : 테이블 내 데이터 수정 \n",
    "con = sqlite3.connect('teamproject.db', timeout=10)   # db 연결\n",
    "cursor_db = con.cursor()   # db를 연다\n",
    "\n",
    "# 작업을 한다\n",
    "cursor_db.execute(\"UPDATE qna SET qna_content= '알류미늄 호일은 일반쓰레기 맞나요?' where qna_no= 3\") # 따음표 제외해야 잘 수정된다\n",
    "\n",
    "con.commit()  # 저장한다\n",
    "con.close()   # db 닫기"
   ]
  },
  {
   "cell_type": "code",
   "execution_count": 12,
   "id": "c6445b8f",
   "metadata": {},
   "outputs": [],
   "source": [
    "#  insert into : 테이블 내 데이터 삭제\n",
    "con = sqlite3.connect('teamproject.db', timeout=10)   # db 연결\n",
    "cursor_db = con.cursor()   # db를 연다\n",
    "\n",
    "# 작업을 한다\n",
    "cursor_db.execute(\"DELETE FROM qna where qna_no = 2\")   \n",
    "\n",
    "con.commit()  # 저장한다\n",
    "con.close()   # db 닫기"
   ]
  },
  {
   "cell_type": "code",
   "execution_count": 14,
   "id": "18340e14",
   "metadata": {},
   "outputs": [
    {
     "name": "stdout",
     "output_type": "stream",
     "text": [
      "(7, '질문있습니다5', '2023-04-14', 'testid', '종이호일은 일반쓰레기 맞나요?')\n",
      "(6, '질문있습니다4', '2023-04-14', 'testid', '종이호일은 일반쓰레기 맞나요?')\n",
      "(5, '질문있습니다3', '2023-04-14', 'testid', '종이호일은 일반쓰레기 맞나요?')\n",
      "(4, '질문있습니다2', '2023-04-14', 'testid', '종이호일은 일반쓰레기 맞나요?')\n",
      "(3, '질문있습니다1', '2023-04-14', 'testid', '알류미늄 호일은 일반쓰레기 맞나요?')\n",
      "(1, '질문있습니다1', '2023-04-14', 'testid', '종이호일은 일반쓰레기 맞나요?')\n"
     ]
    }
   ],
   "source": [
    "# 모든 값 읽어오기 (id 순으로 역순정렬 후 5개 데이터만)\n",
    "\n",
    "con = sqlite3.connect('teamproject.db', timeout=10)   # db 연결\n",
    "cursor_db = con.cursor()   # db를 연다\n",
    "cursor_db.execute('SELECT * FROM qna ORDER BY qna_no DESC limit 6') # \n",
    "# 작업을 한다\n",
    "raw_datas = cursor_db.fetchall()\n",
    "\n",
    "for _ in raw_datas:\n",
    "    print(_)\n",
    "\n",
    "con.commit()  # 저장한다\n",
    "con.close()   # db 닫기"
   ]
  },
  {
   "cell_type": "code",
   "execution_count": null,
   "id": "406a2e09",
   "metadata": {},
   "outputs": [],
   "source": []
  },
  {
   "cell_type": "code",
   "execution_count": 5,
   "id": "6b9faffb",
   "metadata": {},
   "outputs": [],
   "source": [
    "class Qna:  # 모듈화\n",
    "    def __init__(self): # 연결\n",
    "        self.con = sqlite3.connect(\"teamproject.db\", timeout=15, isolation_level=None)\n",
    "        self.cur = self.con.cursor()\n",
    "        \n",
    "    def __del__(self): # 연결해제\n",
    "        self.cur.close()\n",
    "        self.con.close()\n",
    "        \n",
    "    def qna_insert(self, qna_title, user_id, qna_content):\n",
    "        sql = \"INSERT INTO qna('qna_date', 'qna_title', 'user_id', 'qna_content') VALUES (?,?,?,?)\"\n",
    "        self.con.execute(sql,(time.strftime('%Y-%m-%d'), qna_title, user_id, qna_content))\n",
    "        self.con.commit()\n",
    "        \n",
    "    def qna_update(self, qna_title, user_id, qna_content, qna_no):  \n",
    "        sql = \"UPDATE  qna SET qna_title = ?, user_id= ?, qna_content =? where qna_no =?\"\n",
    "        self.con.execute(sql,(qna_title, user_id, qna_content, qna_no,))\n",
    "        self.con.commit()\n",
    "        \n",
    "    def qna_delete(self, qna_no):             \n",
    "        sql = \"DELETE FROM qna where qna_no =?\"\n",
    "        self.con.execute(sql, (qna_no,))\n",
    "        self.con.commit()           \n",
    "    \n",
    "    def qna_selectAll(self):            \n",
    "        sql = \"SELECT * FROM qna\"\n",
    "        res = self.cur.execute(sql,)\n",
    "        for _ in res:            \n",
    "            print(_)\n",
    "        return res\n",
    "        \n",
    "    def qna_selectOne(self, qna_no):      \n",
    "        sql = \"SELECT * FROM qna Where qna_no = ?\"\n",
    "        self.cur.execute(sql, (qna_no,))\n",
    "        row = self.cur.fetchone()\n",
    "        print(row)\n",
    "        \n",
    "        self.con.commit()           "
   ]
  },
  {
   "cell_type": "code",
   "execution_count": 9,
   "id": "3198025a",
   "metadata": {},
   "outputs": [
    {
     "name": "stdout",
     "output_type": "stream",
     "text": [
      "(1, '질문있습니다1', '2023-04-14', 'testid', '종이호일은 일반쓰레기 맞나요?')\n",
      "(3, '질문있습니다1', '2023-04-14', 'testid', '알류미늄 호일은 일반쓰레기 맞나요?')\n",
      "(4, '질문있습니다2', '2023-04-14', 'testid', '종이호일은 일반쓰레기 맞나요?')\n",
      "(5, '질문있습니다3', '2023-04-14', 'testid', '종이호일은 일반쓰레기 맞나요?')\n",
      "(6, '질문있습니다4', '2023-04-14', 'testid', '종이호일은 일반쓰레기 맞나요?')\n",
      "(7, '질문있습니다5', '2023-04-14', 'testid', '종이호일은 일반쓰레기 맞나요?')\n",
      "(8, '질문있습니다6', '2023-04-18', 'testid', '해결했습니다ㅎ')\n"
     ]
    }
   ],
   "source": [
    "import sqlite3\n",
    "from sqlite3 import Error\n",
    "import time\n",
    "\n",
    "if __name__ == '__main__':\n",
    "    q= Qna()  \n",
    "    q.qna_selectAll()"
   ]
  },
  {
   "cell_type": "code",
   "execution_count": null,
   "id": "01366dd9",
   "metadata": {},
   "outputs": [],
   "source": []
  }
 ],
 "metadata": {
  "kernelspec": {
   "display_name": "Python 3 (ipykernel)",
   "language": "python",
   "name": "python3"
  },
  "language_info": {
   "codemirror_mode": {
    "name": "ipython",
    "version": 3
   },
   "file_extension": ".py",
   "mimetype": "text/x-python",
   "name": "python",
   "nbconvert_exporter": "python",
   "pygments_lexer": "ipython3",
   "version": "3.10.6"
  }
 },
 "nbformat": 4,
 "nbformat_minor": 5
}
