{
 "cells": [
  {
   "cell_type": "code",
   "execution_count": 1,
   "id": "7c5323a0",
   "metadata": {},
   "outputs": [],
   "source": [
    "import sqlite3 # create table : comment 테이블 생성 \n",
    "from sqlite3 import Error\n",
    "import time\n",
    "\n",
    "con = sqlite3.connect('teamproject.db', timeout=10)   # db 연결\n",
    "cursor_db = con.cursor()   # db를 연다\n",
    "\n",
    "cursor_db.execute('CREATE TABLE \"comment\"(\"com_no\" INTEGER NOT NULL, \"qna_no\" INTEGER NOT NULL, \"com_data\" TEXT NOT NULL, \"user_id\" TEXT NOT NULL, \"com_content\" TEXT NOT NULL, FOREIGN KEY(\"qna_no\") REFERENCES \"qna\"(\"qna_no\") ON DELETE CASCADE, FOREIGN KEY(\"user_id\") REFERENCES \"users\"(\"user_id\") ON DELETE CASCADE, PRIMARY KEY(\"com_no\" AUTOINCREMENT));')\n",
    "\n",
    "con.commit()  # 저장한다\n",
    "con.close()   # db 닫기\n"
   ]
  },
  {
   "cell_type": "code",
   "execution_count": 7,
   "id": "f092e800",
   "metadata": {},
   "outputs": [],
   "source": [
    "#  insert into : 테이블 내 데이터 추가 \n",
    "con = sqlite3.connect('teamproject.db', timeout=10)   # db 연결\n",
    "cursor_db = con.cursor()   # db를 연다\n",
    "\n",
    "plus_data = ('5', time.strftime('%Y-%m-%d'), 'testid', '종이호일은 일반쓰레기입니다.')\n",
    "cursor_db.execute(\"INSERT INTO 'comment'('qna_no', 'com_data','user_id','com_content') VALUES(?, ?, ?, ?)\", plus_data) # 작업을 한다\n",
    "\n",
    "con.commit()  # 저장한다\n",
    "con.close()   # db 닫기"
   ]
  },
  {
   "cell_type": "code",
   "execution_count": 8,
   "id": "68740adc",
   "metadata": {},
   "outputs": [],
   "source": [
    "#  insert into : 테이블 내 데이터 수정 \n",
    "con = sqlite3.connect('teamproject.db', timeout=10)   # db 연결\n",
    "cursor_db = con.cursor()   # db를 연다\n",
    "\n",
    "# 작업을 한다\n",
    "cursor_db.execute(\"UPDATE comment SET com_content= '확인해보겠습니다.' where com_no= 3\") \n",
    "\n",
    "con.commit()  # 저장한다\n",
    "con.close()   # db 닫기"
   ]
  },
  {
   "cell_type": "code",
   "execution_count": 9,
   "id": "55050f04",
   "metadata": {},
   "outputs": [],
   "source": [
    "#  insert into : data_aihub 테이블 내 데이터 삭제\n",
    "con = sqlite3.connect('teamproject.db', timeout=10)   # db 연결\n",
    "cursor_db = con.cursor()   # db를 연다\n",
    "\n",
    "# 작업을 한다\n",
    "cursor_db.execute(\"DELETE FROM comment where com_no = 2\")   \n",
    "\n",
    "con.commit()  # 저장한다\n",
    "con.close()   # db 닫기"
   ]
  },
  {
   "cell_type": "code",
   "execution_count": 12,
   "id": "69422485",
   "metadata": {},
   "outputs": [
    {
     "name": "stdout",
     "output_type": "stream",
     "text": [
      "(5, 5, '2023-04-14', 'testid', '종이호일은 일반쓰레기입니다.')\n",
      "(4, 4, '2023-04-14', 'testid', '종이호일은 일반쓰레기입니다.')\n",
      "(3, 3, '2023-04-14', 'testid', '확인해보겠습니다.')\n",
      "(1, 1, '2023-04-14', 'testid', '종이호일은 일반쓰레기입니다.')\n"
     ]
    }
   ],
   "source": [
    "# 모든 값 읽어오기 (id 순으로 역순정렬 후 5개 데이터만)\n",
    "\n",
    "con = sqlite3.connect('teamproject.db', timeout=10)   # db 연결\n",
    "cursor_db = con.cursor()   # db를 연다\n",
    "cursor_db.execute('SELECT * FROM comment ORDER BY qna_no DESC limit 5') # \n",
    "# 작업을 한다\n",
    "raw_datas = cursor_db.fetchall()\n",
    "\n",
    "for _ in raw_datas:\n",
    "    print(_)\n",
    "\n",
    "con.commit()  # 저장한다\n",
    "con.close()   # db 닫기"
   ]
  },
  {
   "cell_type": "code",
   "execution_count": 77,
   "id": "1b6f92a1",
   "metadata": {},
   "outputs": [],
   "source": [
    "class Comment:\n",
    "    def __init__(self): # 연결\n",
    "        self.con = sqlite3.connect(\"teamproject.db\", timeout=15, isolation_level=None)\n",
    "        self.cur = self.con.cursor()\n",
    "        \n",
    "    def __del__(self): # 연결해제\n",
    "        self.cur.close()\n",
    "        self.con.close()\n",
    "        \n",
    "    def comment_insert(self, qna_no, user_id, com_content):\n",
    "        sql = \"INSERT INTO comment('qna_no', 'com_data', 'user_id', 'com_content') VALUES (?,?,?,?)\"\n",
    "        self.con.execute(sql,(qna_no, time.strftime('%Y-%m-%d'), user_id, com_content))\n",
    "        self.con.commit()\n",
    "        \n",
    "    def comment_update(self, qna_no, com_content, com_no):  \n",
    "        sql = \"UPDATE  comment SET qna_no = ?, com_content =? where com_no =?\"\n",
    "        self.con.execute(sql,(qna_no, com_content, com_no,))\n",
    "        self.con.commit()\n",
    "        \n",
    "    def comment_delete(self, com_no):             \n",
    "        sql = \"DELETE FROM comment where com_no =?\"\n",
    "        self.con.execute(sql, (com_no,))\n",
    "        self.con.commit()           \n",
    "    \n",
    "    def comment_selectAll(self):            \n",
    "        sql = \"SELECT * FROM comment\"\n",
    "        res = self.cur.execute(sql,)\n",
    "        for _ in res:            \n",
    "            print(_)\n",
    "        return res\n",
    "        \n",
    "    def comment_selectOne(self, com_no):      \n",
    "        sql = \"SELECT * FROM comment Where com_no = ?\"\n",
    "        self.cur.execute(sql, (com_no,))\n",
    "        row = self.cur.fetchone()\n",
    "        print(row)\n",
    "        \n",
    "        self.con.commit()           "
   ]
  },
  {
   "cell_type": "code",
   "execution_count": 78,
   "id": "1e5eb540",
   "metadata": {},
   "outputs": [
    {
     "name": "stdout",
     "output_type": "stream",
     "text": [
      "(1, 1, '2023-04-14', 'testid', '종이호일은 일반쓰레기입니다.')\n",
      "(3, 3, '2023-04-14', 'testid', '확인해보겠습니다.')\n",
      "(4, 4, '2023-04-14', 'testid', '종이호일은 일반쓰레기입니다.')\n",
      "(5, 5, '2023-04-14', 'testid', '종이호일은 일반쓰레기입니다.')\n",
      "(6, 3, '2023-04-18', 'testid', '일반 쓰레기로 버리는 것이 맞습니다')\n",
      "(7, 3, '2023-04-18', 'testid', '일반으로 버려야 합니다.')\n",
      "(8, 3, '2023-04-18', 'testid', '일반으로 버려야 합니다.')\n"
     ]
    }
   ],
   "source": [
    "import sqlite3\n",
    "from sqlite3 import Error\n",
    "import time\n",
    "\n",
    "if __name__ == '__main__':\n",
    "    c= Comment()  \n",
    "    c.comment_insert(3,'testid','일반으로 버려야 합니다.')\n",
    "    c.comment_update(3,'일반 쓰레기로 버리는 것이 맞습니다', 6)\n",
    "    c.comment_selectAll()"
   ]
  },
  {
   "cell_type": "code",
   "execution_count": null,
   "id": "843d9bca",
   "metadata": {},
   "outputs": [],
   "source": [
    "if __name__ == '__main__':\n",
    "    c= Comment()  "
   ]
  }
 ],
 "metadata": {
  "kernelspec": {
   "display_name": "Python 3 (ipykernel)",
   "language": "python",
   "name": "python3"
  },
  "language_info": {
   "codemirror_mode": {
    "name": "ipython",
    "version": 3
   },
   "file_extension": ".py",
   "mimetype": "text/x-python",
   "name": "python",
   "nbconvert_exporter": "python",
   "pygments_lexer": "ipython3",
   "version": "3.10.6"
  }
 },
 "nbformat": 4,
 "nbformat_minor": 5
}
