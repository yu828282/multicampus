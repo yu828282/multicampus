{
 "cells": [
  {
   "cell_type": "code",
   "execution_count": 8,
   "id": "d7a01b58",
   "metadata": {},
   "outputs": [],
   "source": [
    "import sqlite3 # create table :  users 테이블 생성\n",
    "import time\n",
    "\n",
    "con = sqlite3.connect('teamproject.db', timeout=10)   # db 연결\n",
    "cursor_db = con.cursor()   # db를 연다\n",
    "\n",
    "cursor_db.execute('CREATE TABLE \"users\"(\"user_no\" INTEGER NOT NULL, \"user_date\" TEXT NOT NULL, \"user_id\" TEXT NOT NULL UNIQUE, \"user_pw\" TEXT NOT NULL, \"user_area\" TEXT, PRIMARY KEY(\"user_no\" AUTOINCREMENT));')\n",
    "\n",
    "con.commit()  # 저장한다\n",
    "con.close()   # db 닫기\n"
   ]
  },
  {
   "cell_type": "code",
   "execution_count": 17,
   "id": "16f2d262",
   "metadata": {},
   "outputs": [],
   "source": [
    "#  insert into : data_aihub 테이블 내 데이터 추가 \n",
    "con = sqlite3.connect('teamproject.db', timeout=10)   # db 연결\n",
    "cursor_db = con.cursor()   # db를 연다\n",
    "\n",
    "plus_data = (time.strftime('%Y-%m-%d'),'idtest4', 'pwtest4', '성남시 중구')\n",
    "cursor_db.execute(\"INSERT INTO 'users'('user_date', 'user_id', 'user_pw', 'user_area') VALUES(?, ?, ?, ?)\", plus_data) # 작업을 한다\n",
    "\n",
    "con.commit()  # 저장한다\n",
    "con.close()   # db 닫기"
   ]
  },
  {
   "cell_type": "code",
   "execution_count": 24,
   "id": "a4677712",
   "metadata": {},
   "outputs": [],
   "source": [
    "#  insert into : data_aihub 테이블 내 데이터 수정 \n",
    "con = sqlite3.connect('teamproject.db', timeout=10)   # db 연결\n",
    "cursor_db = con.cursor()   # db를 연다\n",
    "\n",
    "# 작업을 \n",
    "cursor_db.execute(\"UPDATE users SET user_area='대전광역시 중구' where user_no= 3\") # 따움표를 제외해야 수정이 된다..\n",
    "\n",
    "con.commit()  # 저장한다\n",
    "con.close()   # db 닫기"
   ]
  },
  {
   "cell_type": "code",
   "execution_count": 26,
   "id": "a69ebb1b",
   "metadata": {},
   "outputs": [],
   "source": [
    "#  insert into : data_aihub 테이블 내 데이터 삭제\n",
    "con = sqlite3.connect('teamproject.db', timeout=10)   # db 연결\n",
    "cursor_db = con.cursor()   # db를 연다\n",
    "\n",
    "# 작업을 한다\n",
    "cursor_db.execute(\"DELETE FROM users where user_no= 4\")   \n",
    "\n",
    "con.commit()  # 저장한다\n",
    "con.close()   # db 닫기"
   ]
  },
  {
   "cell_type": "code",
   "execution_count": 27,
   "id": "b1c27868",
   "metadata": {},
   "outputs": [
    {
     "name": "stdout",
     "output_type": "stream",
     "text": [
      "(3, '2023-04-14', 'idtest3', 'pwtest3', '대전광역시 중구', '주택')\n",
      "(2, '2023-04-14', 'idtest2', 'pwtest2', '성남시 중구', '빌라')\n",
      "(1, '2023-04-14', 'idtest', 'pwtest', '서울특별시 중구', '아파트')\n"
     ]
    }
   ],
   "source": [
    "# 모든 값 읽어오기 (id 순으로 역순정렬 후 3개 데이터만)\n",
    "\n",
    "con = sqlite3.connect('teamproject.db', timeout=10)   # db 연결\n",
    "cursor_db = con.cursor()   # db를 연다\n",
    "cursor_db.execute('SELECT * FROM users ORDER BY user_no DESC limit 3') # \n",
    "# 작업을 한다\n",
    "raw_datas = cursor_db.fetchall()\n",
    "\n",
    "for _ in raw_datas:\n",
    "    print(_)\n",
    "\n",
    "con.commit()  # 저장한다\n",
    "con.close()   # db 닫기"
   ]
  },
  {
   "cell_type": "code",
   "execution_count": null,
   "id": "db080ab1",
   "metadata": {},
   "outputs": [],
   "source": []
  },
  {
   "cell_type": "code",
   "execution_count": 20,
   "id": "70bb7661",
   "metadata": {},
   "outputs": [],
   "source": [
    "class Users:\n",
    "    def __init__(self): # 연결\n",
    "        self.con = sqlite3.connect(\"teamproject.db\", timeout=15, isolation_level=None)\n",
    "        self.cur = self.con.cursor()\n",
    "        \n",
    "    def __del__(self): # 연결해제\n",
    "        self.cur.close()\n",
    "        self.con.close()\n",
    "        \n",
    "    def user_insert(self, user_id, user_pw, user_area):\n",
    "        sql = \"INSERT INTO users ('user_date', 'user_id', 'user_pw', 'user_area') VALUES (?,?,?,?)\"\n",
    "        self.con.execute(sql,(time.strftime('%Y-%m-%d'), user_id, user_pw, user_area))\n",
    "        self.con.commit()\n",
    "        \n",
    "    def user_update(self, user_id, user_pw, user_area, user_no):  \n",
    "        sql = \"UPDATE  users SET user_id = ?, user_pw= ?, user_area =? where user_no =?\"\n",
    "        self.con.execute(sql,(user_id, user_pw, user_area, user_no,))\n",
    "        self.con.commit()\n",
    "        \n",
    "    def user_delete(self, user_no):             \n",
    "        sql = \"DELETE FROM users where user_no =?\"\n",
    "        self.con.execute(sql, (user_no,))\n",
    "        self.con.commit()           \n",
    "    \n",
    "    def user_selectAll(self):            \n",
    "        sql = \"SELECT * FROM users\"\n",
    "        res = self.cur.execute(sql,)\n",
    "        for _ in res:            \n",
    "            print(_)\n",
    "        return res\n",
    "        \n",
    "    def user_selectOne(self, user_no):      \n",
    "        sql = \"SELECT * FROM users Where  user_no = ?\"\n",
    "        self.cur.execute(sql, (user_no,))\n",
    "        row = self.cur.fetchone()\n",
    "        print(row)\n",
    "        \n",
    "        self.con.commit()           "
   ]
  },
  {
   "cell_type": "code",
   "execution_count": 22,
   "id": "1227c4c1",
   "metadata": {},
   "outputs": [],
   "source": [
    "import sqlite3 # create table : qna 테이블 생성 \n",
    "from sqlite3 import Error\n",
    "import time\n",
    "\n",
    "if __name__ == '__main__':\n",
    "    u= Users()  \n",
    "    u.user_insert('testid4', 'testpw', '인천광역시 중구')"
   ]
  },
  {
   "cell_type": "code",
   "execution_count": null,
   "id": "75e50038",
   "metadata": {},
   "outputs": [],
   "source": []
  }
 ],
 "metadata": {
  "kernelspec": {
   "display_name": "Python 3 (ipykernel)",
   "language": "python",
   "name": "python3"
  },
  "language_info": {
   "codemirror_mode": {
    "name": "ipython",
    "version": 3
   },
   "file_extension": ".py",
   "mimetype": "text/x-python",
   "name": "python",
   "nbconvert_exporter": "python",
   "pygments_lexer": "ipython3",
   "version": "3.10.6"
  }
 },
 "nbformat": 4,
 "nbformat_minor": 5
}
