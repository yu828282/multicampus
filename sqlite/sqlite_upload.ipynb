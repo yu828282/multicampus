{
 "cells": [
  {
   "cell_type": "code",
   "execution_count": 11,
   "id": "cc69d8f6",
   "metadata": {},
   "outputs": [],
   "source": [
    "import sqlite3 # create table : upload 테이블 생성 \n",
    "from sqlite3 import Error\n",
    "import time\n",
    "\n",
    "con = sqlite3.connect('teamproject.db', timeout=10)   # db 연결\n",
    "cursor_db = con.cursor()   # db를 연다\n",
    "\n",
    "cursor_db.execute('CREATE TABLE \"upload\"(\"uplode_no\" INTEGER NOT NULL, \"img_name\" TEXT NOT NULL, \"user_id\" TEXT NOT NULL, \"img_url\" TEXT NOT NULL, \"img_size\" REAL NOT NULL, \"img_width\" REAL NOT NULL, \"img_height\" REAL NOT NULL, \"s_update_date\" TEXT NOT NULL, FOREIGN KEY(\"user_id\") REFERENCES \"users\"(\"user_id\") ON DELETE CASCADE, PRIMARY KEY(\"uplode_no\" AUTOINCREMENT));')\n",
    "                \n",
    "con.commit()  # 저장한다\n",
    "con.close()   # db 닫기\n"
   ]
  },
  {
   "cell_type": "code",
   "execution_count": 16,
   "id": "95fb84d3",
   "metadata": {},
   "outputs": [],
   "source": [
    "#  insert into : 테이블 내 데이터 추가 \n",
    "con = sqlite3.connect('teamproject.db', timeout=10)   # db 연결\n",
    "cursor_db = con.cursor()   # db를 연다\n",
    "\n",
    "plus_data = ('imgsss.jpg', 'testid', '/data/datas/', 103, 155, 155, time.strftime('%Y-%m-%d'))\n",
    "cursor_db.execute(\"INSERT INTO 'upload'('img_name', 'user_id', 'img_url', 'img_size', 'img_width', 'img_height', 's_update_date') VALUES(?, ?, ?, ?, ?, ?, ?)\", plus_data) # 작업을 한다\n",
    "\n",
    "con.commit()  # 저장한다\n",
    "con.close()   # db 닫기"
   ]
  },
  {
   "cell_type": "code",
   "execution_count": 17,
   "id": "88e41cd9",
   "metadata": {},
   "outputs": [],
   "source": [
    "#  insert into : data_aihub 테이블 내 데이터 수정 \n",
    "con = sqlite3.connect('teamproject.db', timeout=10)   # db 연결\n",
    "cursor_db = con.cursor()   # db를 연다\n",
    "\n",
    "# 작업을 한다\n",
    "cursor_db.execute(\"UPDATE upload SET img_name= 'imgsss22222.jpg' where uplode_no= 3\") # 따음표 제외해야 잘 수정된다\n",
    "\n",
    "con.commit()  # 저장한다\n",
    "con.close()   # db 닫기"
   ]
  },
  {
   "cell_type": "code",
   "execution_count": 18,
   "id": "0b5a889d",
   "metadata": {},
   "outputs": [],
   "source": [
    "#  insert into : data_aihub 테이블 내 데이터 삭제\n",
    "con = sqlite3.connect('teamproject.db', timeout=10)   # db 연결\n",
    "cursor_db = con.cursor()   # db를 연다\n",
    "\n",
    "# 작업을 한다\n",
    "cursor_db.execute(\"DELETE FROM upload where uplode_no= 4\") \n",
    "\n",
    "con.commit()  # 저장한다\n",
    "con.close()   # db 닫기"
   ]
  },
  {
   "cell_type": "code",
   "execution_count": 19,
   "id": "b087389d",
   "metadata": {},
   "outputs": [
    {
     "name": "stdout",
     "output_type": "stream",
     "text": [
      "(5, 'imgsss.jpg', 'testid', '/data/datas/', 103.0, 155.0, 155.0, '2023-04-14')\n",
      "(3, 'imgsss22222.jpg', 'testid', '/data/datas/', 103.0, 155.0, 155.0, '2023-04-14')\n",
      "(2, 'imgsss.jpg', 'testid', '/data/datas/', 103.0, 155.0, 155.0, '2023-04-14')\n",
      "(1, 'imgsss.jpg', 'testid', '/data/datas/', 103.0, 155.0, 155.0, '2023-04-14')\n"
     ]
    }
   ],
   "source": [
    "# 모든 값 읽어오기 (id 순으로 역순정렬 후 5개 데이터만)\n",
    "\n",
    "con = sqlite3.connect('teamproject.db', timeout=10)   # db 연결\n",
    "cursor_db = con.cursor()   # db를 연다\n",
    "cursor_db.execute('SELECT * FROM upload ORDER BY uplode_no DESC limit 5') # \n",
    "# 작업을 한다\n",
    "raw_datas = cursor_db.fetchall()\n",
    "\n",
    "for _ in raw_datas:\n",
    "    print(_)\n",
    "\n",
    "con.commit()  # 저장한다\n",
    "con.close()   # db 닫기"
   ]
  },
  {
   "cell_type": "code",
   "execution_count": 6,
   "id": "891c3d90",
   "metadata": {},
   "outputs": [],
   "source": [
    "class Upload:\n",
    "    def __init__(self): # 연결\n",
    "        self.con = sqlite3.connect(\"teamproject.db\", timeout=15, isolation_level=None)\n",
    "        self.cur = self.con.cursor()\n",
    "        \n",
    "    def __del__(self): # 연결해제\n",
    "        self.cur.close()\n",
    "        self.con.close()\n",
    "        \n",
    "    def upload_insert(self, img_name, user_id, img_url, img_size, img_width, img_height):\n",
    "        sql = \"INSERT INTO upload ('img_name', 'user_id', 'img_url', 'img_size', 'img_width', 'img_height', 's_update_date') VALUES (?,?,?,?,?,?,?);\"\n",
    "        self.con.execute(sql,(img_name, user_id, img_url, img_size, img_width, img_height, time.strftime('%Y-%m-%d'),))\n",
    "        self.con.commit()\n",
    "        \n",
    "    def upload_update(self, img_name, user_id, img_url, img_size, img_width, img_height, upload_no):  \n",
    "        sql = \"UPDATE  upload SET user_id = ?, user_pw= ?, user_area =? where upload_no =?\"\n",
    "        self.con.execute(sql,(img_name, user_id, img_url, img_size, img_width, img_height, upload_no,))\n",
    "        self.con.commit()\n",
    "        \n",
    "    def upload_delete(self, upload_no):             \n",
    "        sql = \"DELETE FROM upload where upload_no =?\"\n",
    "        self.con.execute(sql, (upload_no,))\n",
    "        self.con.commit()           \n",
    "    \n",
    "    def upload_selectAll(self):            \n",
    "        sql = \"SELECT * FROM upload\"\n",
    "        res = self.cur.execute(sql,)\n",
    "        for _ in res:            \n",
    "            print(_)\n",
    "        return res\n",
    "        \n",
    "    def upload_selectOne(self, upload_no):      \n",
    "        sql = \"SELECT * FROM upload Where  upload_no = ?\"\n",
    "        self.cur.execute(sql, (upload_no,))\n",
    "        row = self.cur.fetchone()\n",
    "        print(row)\n",
    "        \n",
    "        self.con.commit()           "
   ]
  },
  {
   "cell_type": "code",
   "execution_count": 7,
   "id": "bc978160",
   "metadata": {},
   "outputs": [],
   "source": [
    "import sqlite3 # create table : upload 테이블 생성 \n",
    "from sqlite3 import Error\n",
    "import time\n",
    "\n",
    "if __name__ == '__main__':\n",
    "    u= Upload()             \n",
    "    u.upload_insert('img05.jpg', 'testid', '/data/img/',150, 250, 250)"
   ]
  },
  {
   "cell_type": "code",
   "execution_count": 8,
   "id": "58f54361",
   "metadata": {},
   "outputs": [
    {
     "name": "stdout",
     "output_type": "stream",
     "text": [
      "(1, 'imgsss.jpg', 'testid', '/data/datas/', 103.0, 155.0, 155.0, '2023-04-14')\n",
      "(2, 'imgsss.jpg', 'testid', '/data/datas/', 103.0, 155.0, 155.0, '2023-04-14')\n",
      "(3, 'imgsss22222.jpg', 'testid', '/data/datas/', 103.0, 155.0, 155.0, '2023-04-14')\n",
      "(5, 'imgsss.jpg', 'testid', '/data/datas/', 103.0, 155.0, 155.0, '2023-04-14')\n",
      "(6, 'img05.jpg', 'testid', '/data/img/', 150.0, 250.0, 250.0, '2023-04-18')\n"
     ]
    }
   ],
   "source": [
    "if __name__ == '__main__':\n",
    "    u= Upload()             \n",
    "    u.upload_selectAll()"
   ]
  },
  {
   "cell_type": "code",
   "execution_count": null,
   "id": "16d2e104",
   "metadata": {},
   "outputs": [],
   "source": []
  }
 ],
 "metadata": {
  "kernelspec": {
   "display_name": "Python 3 (ipykernel)",
   "language": "python",
   "name": "python3"
  },
  "language_info": {
   "codemirror_mode": {
    "name": "ipython",
    "version": 3
   },
   "file_extension": ".py",
   "mimetype": "text/x-python",
   "name": "python",
   "nbconvert_exporter": "python",
   "pygments_lexer": "ipython3",
   "version": "3.10.6"
  }
 },
 "nbformat": 4,
 "nbformat_minor": 5
}
